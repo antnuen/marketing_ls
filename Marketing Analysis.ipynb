{
 "cells": [
  {
   "cell_type": "code",
   "execution_count": null,
   "metadata": {},
   "outputs": [],
   "source": [
    "WITH football_bets AS (\n",
    "    SELECT bettorID, COUNT(DISTINCT betID) AS football_bets_count\n",
    "    FROM BETS\n",
    "    WHERE betSport = 'Football' AND betDate BETWEEN '2022-12-01' AND '2022-12-31'\n",
    "    GROUP BY bettorID\n",
    "), basketball_bets AS (\n",
    "    SELECT bettorID\n",
    "    FROM BETS\n",
    "    WHERE betSport = 'Basketbal'\n",
    "    GROUP BY bettorID\n",
    "), campaign_counts AS (\n",
    "    SELECT userID, channel, COUNT(DISTINCT campaignID) AS campaignsSent\n",
    "    FROM CAMPAIGNS\n",
    "    WHERE interactionType = 'sent' AND DATE_TRUNC('month', \"timestamp\") = '2022-12-01'\n",
    "    GROUP BY userID, channel\n",
    "), average_stakes AS (\n",
    "    SELECT bettorID, AVG(betAmount) AS average_stake\n",
    "    FROM BETS\n",
    "    GROUP BY bettorID\n",
    ")\n",
    "SELECT u.userID, f.football_bets_count, c.channel, c.campaignsSent,\n",
    "       CASE WHEN b.bettorID IS NOT NULL THEN 1 ELSE 0 END AS previously_bet_on_basketball,\n",
    "       a.average_stake\n",
    "FROM USER u\n",
    "LEFT JOIN football_bets f ON u.userID = f.bettorID\n",
    "LEFT JOIN campaign_counts c ON u.userID = c.userID\n",
    "LEFT JOIN basketball_bets b ON c.userID = b.bettorID\n",
    "LEFT JOIN average_stakes a ON u.userID = a.bettorID\n",
    "WHERE u.brand = 'LiveScore' AND a.average_stake >= 10;"
   ]
  },
  {
   "cell_type": "code",
   "execution_count": 6,
   "metadata": {},
   "outputs": [],
   "source": [
    "import numpy as np # linear algebra\n",
    "import pandas as pd # data processing, CSV file I/O (e.g. pd.read_csv)\n",
    "\n",
    "import matplotlib.pyplot as plt\n",
    "import seaborn as sns      "
   ]
  },
  {
   "cell_type": "code",
   "execution_count": 7,
   "metadata": {},
   "outputs": [],
   "source": [
    "df = pd.read_csv(\"C:/Users/hasha/Desktop/Marketing_Data_Analyst_LiveScore_Take_Home_Task.csv\")"
   ]
  },
  {
   "cell_type": "code",
   "execution_count": 8,
   "metadata": {},
   "outputs": [
    {
     "data": {
      "text/html": [
       "<div>\n",
       "<style scoped>\n",
       "    .dataframe tbody tr th:only-of-type {\n",
       "        vertical-align: middle;\n",
       "    }\n",
       "\n",
       "    .dataframe tbody tr th {\n",
       "        vertical-align: top;\n",
       "    }\n",
       "\n",
       "    .dataframe thead th {\n",
       "        text-align: right;\n",
       "    }\n",
       "</style>\n",
       "<table border=\"1\" class=\"dataframe\">\n",
       "  <thead>\n",
       "    <tr style=\"text-align: right;\">\n",
       "      <th></th>\n",
       "      <th>category_id_name</th>\n",
       "      <th>campaign_id</th>\n",
       "      <th>trigger_id</th>\n",
       "      <th>action_id</th>\n",
       "      <th>message_id</th>\n",
       "      <th>profile_id</th>\n",
       "      <th>category_id</th>\n",
       "      <th>message_type</th>\n",
       "      <th>message_variant</th>\n",
       "      <th>message_language</th>\n",
       "      <th>...</th>\n",
       "      <th>conversion</th>\n",
       "      <th>promotion_id</th>\n",
       "      <th>promotion_amount</th>\n",
       "      <th>unsubscribe</th>\n",
       "      <th>complaint</th>\n",
       "      <th>open_time</th>\n",
       "      <th>click_time</th>\n",
       "      <th>create_time</th>\n",
       "      <th>expiration_time</th>\n",
       "      <th>message_type_name</th>\n",
       "    </tr>\n",
       "  </thead>\n",
       "  <tbody>\n",
       "    <tr>\n",
       "      <th>0</th>\n",
       "      <td>sport</td>\n",
       "      <td>56660</td>\n",
       "      <td>22163984251</td>\n",
       "      <td>15933024720</td>\n",
       "      <td>582467359.0</td>\n",
       "      <td>11ed2141231019bdbd6a0216cfed634c</td>\n",
       "      <td>32</td>\n",
       "      <td>1</td>\n",
       "      <td>A</td>\n",
       "      <td>None</td>\n",
       "      <td>...</td>\n",
       "      <td>0</td>\n",
       "      <td>0</td>\n",
       "      <td>0</td>\n",
       "      <td>0</td>\n",
       "      <td>0</td>\n",
       "      <td>NaN</td>\n",
       "      <td>NaN</td>\n",
       "      <td>2022-09-01 16:55:00</td>\n",
       "      <td>2022-09-01 17:55:00</td>\n",
       "      <td>ios_push</td>\n",
       "    </tr>\n",
       "    <tr>\n",
       "      <th>1</th>\n",
       "      <td>sport</td>\n",
       "      <td>56660</td>\n",
       "      <td>22163984251</td>\n",
       "      <td>15933024720</td>\n",
       "      <td>582467359.0</td>\n",
       "      <td>11ecb771c94b2973bd6a0216cfed634c</td>\n",
       "      <td>32</td>\n",
       "      <td>1</td>\n",
       "      <td>A</td>\n",
       "      <td>None</td>\n",
       "      <td>...</td>\n",
       "      <td>0</td>\n",
       "      <td>0</td>\n",
       "      <td>0</td>\n",
       "      <td>0</td>\n",
       "      <td>0</td>\n",
       "      <td>NaN</td>\n",
       "      <td>NaN</td>\n",
       "      <td>2022-09-01 16:55:00</td>\n",
       "      <td>2022-09-01 17:55:00</td>\n",
       "      <td>ios_push</td>\n",
       "    </tr>\n",
       "    <tr>\n",
       "      <th>2</th>\n",
       "      <td>sport</td>\n",
       "      <td>56660</td>\n",
       "      <td>22163984251</td>\n",
       "      <td>15933024720</td>\n",
       "      <td>582467359.0</td>\n",
       "      <td>11ecb0366282f53dbd6a0216cfed634c</td>\n",
       "      <td>32</td>\n",
       "      <td>1</td>\n",
       "      <td>A</td>\n",
       "      <td>None</td>\n",
       "      <td>...</td>\n",
       "      <td>0</td>\n",
       "      <td>0</td>\n",
       "      <td>0</td>\n",
       "      <td>0</td>\n",
       "      <td>0</td>\n",
       "      <td>NaN</td>\n",
       "      <td>NaN</td>\n",
       "      <td>2022-09-01 16:55:00</td>\n",
       "      <td>2022-09-01 17:55:00</td>\n",
       "      <td>ios_push</td>\n",
       "    </tr>\n",
       "    <tr>\n",
       "      <th>3</th>\n",
       "      <td>sport</td>\n",
       "      <td>56660</td>\n",
       "      <td>22163984251</td>\n",
       "      <td>15933024720</td>\n",
       "      <td>582467359.0</td>\n",
       "      <td>11ecc462c402eeeabd6a0216cfed634c</td>\n",
       "      <td>32</td>\n",
       "      <td>1</td>\n",
       "      <td>A</td>\n",
       "      <td>None</td>\n",
       "      <td>...</td>\n",
       "      <td>0</td>\n",
       "      <td>0</td>\n",
       "      <td>0</td>\n",
       "      <td>0</td>\n",
       "      <td>0</td>\n",
       "      <td>NaN</td>\n",
       "      <td>NaN</td>\n",
       "      <td>2022-09-01 16:55:00</td>\n",
       "      <td>2022-09-01 17:55:00</td>\n",
       "      <td>ios_push</td>\n",
       "    </tr>\n",
       "    <tr>\n",
       "      <th>4</th>\n",
       "      <td>sport</td>\n",
       "      <td>56660</td>\n",
       "      <td>22163984251</td>\n",
       "      <td>15933024720</td>\n",
       "      <td>582467359.0</td>\n",
       "      <td>11ecb2e79d4a32f6bd6a0216cfed634c</td>\n",
       "      <td>32</td>\n",
       "      <td>1</td>\n",
       "      <td>A</td>\n",
       "      <td>None</td>\n",
       "      <td>...</td>\n",
       "      <td>0</td>\n",
       "      <td>0</td>\n",
       "      <td>0</td>\n",
       "      <td>0</td>\n",
       "      <td>0</td>\n",
       "      <td>NaN</td>\n",
       "      <td>NaN</td>\n",
       "      <td>2022-09-01 16:55:00</td>\n",
       "      <td>2022-09-01 17:55:00</td>\n",
       "      <td>ios_push</td>\n",
       "    </tr>\n",
       "  </tbody>\n",
       "</table>\n",
       "<p>5 rows × 30 columns</p>\n",
       "</div>"
      ],
      "text/plain": [
       "  category_id_name  campaign_id   trigger_id    action_id   message_id  \\\n",
       "0            sport        56660  22163984251  15933024720  582467359.0   \n",
       "1            sport        56660  22163984251  15933024720  582467359.0   \n",
       "2            sport        56660  22163984251  15933024720  582467359.0   \n",
       "3            sport        56660  22163984251  15933024720  582467359.0   \n",
       "4            sport        56660  22163984251  15933024720  582467359.0   \n",
       "\n",
       "                         profile_id  category_id  message_type  \\\n",
       "0  11ed2141231019bdbd6a0216cfed634c           32             1   \n",
       "1  11ecb771c94b2973bd6a0216cfed634c           32             1   \n",
       "2  11ecb0366282f53dbd6a0216cfed634c           32             1   \n",
       "3  11ecc462c402eeeabd6a0216cfed634c           32             1   \n",
       "4  11ecb2e79d4a32f6bd6a0216cfed634c           32             1   \n",
       "\n",
       "  message_variant message_language  ... conversion  promotion_id  \\\n",
       "0               A             None  ...          0             0   \n",
       "1               A             None  ...          0             0   \n",
       "2               A             None  ...          0             0   \n",
       "3               A             None  ...          0             0   \n",
       "4               A             None  ...          0             0   \n",
       "\n",
       "  promotion_amount  unsubscribe  complaint  open_time  click_time  \\\n",
       "0                0            0          0        NaN         NaN   \n",
       "1                0            0          0        NaN         NaN   \n",
       "2                0            0          0        NaN         NaN   \n",
       "3                0            0          0        NaN         NaN   \n",
       "4                0            0          0        NaN         NaN   \n",
       "\n",
       "           create_time      expiration_time  message_type_name  \n",
       "0  2022-09-01 16:55:00  2022-09-01 17:55:00           ios_push  \n",
       "1  2022-09-01 16:55:00  2022-09-01 17:55:00           ios_push  \n",
       "2  2022-09-01 16:55:00  2022-09-01 17:55:00           ios_push  \n",
       "3  2022-09-01 16:55:00  2022-09-01 17:55:00           ios_push  \n",
       "4  2022-09-01 16:55:00  2022-09-01 17:55:00           ios_push  \n",
       "\n",
       "[5 rows x 30 columns]"
      ]
     },
     "execution_count": 8,
     "metadata": {},
     "output_type": "execute_result"
    }
   ],
   "source": [
    "df.head()"
   ]
  },
  {
   "cell_type": "code",
   "execution_count": 9,
   "metadata": {},
   "outputs": [
    {
     "name": "stdout",
     "output_type": "stream",
     "text": [
      "<class 'pandas.core.frame.DataFrame'>\n",
      "RangeIndex: 324742 entries, 0 to 324741\n",
      "Data columns (total 30 columns):\n",
      " #   Column                Non-Null Count   Dtype  \n",
      "---  ------                --------------   -----  \n",
      " 0   category_id_name      324742 non-null  object \n",
      " 1   campaign_id           324742 non-null  int64  \n",
      " 2   trigger_id            324742 non-null  int64  \n",
      " 3   action_id             324742 non-null  int64  \n",
      " 4   message_id            324742 non-null  float64\n",
      " 5   profile_id            324742 non-null  object \n",
      " 6   category_id           324742 non-null  int64  \n",
      " 7   message_type          324742 non-null  int64  \n",
      " 8   message_variant       324742 non-null  object \n",
      " 9   message_language      324742 non-null  object \n",
      " 10  message_param_domain  324742 non-null  object \n",
      " 11  error                 324742 non-null  int64  \n",
      " 12  error_message         324742 non-null  object \n",
      " 13  status                324742 non-null  int64  \n",
      " 14  control               324742 non-null  int64  \n",
      " 15  collapse              324742 non-null  int64  \n",
      " 16  delivery              324742 non-null  int64  \n",
      " 17  remove                324742 non-null  int64  \n",
      " 18  open                  324742 non-null  int64  \n",
      " 19  click                 324742 non-null  int64  \n",
      " 20  conversion            324742 non-null  int64  \n",
      " 21  promotion_id          324742 non-null  int64  \n",
      " 22  promotion_amount      324742 non-null  int64  \n",
      " 23  unsubscribe           324742 non-null  int64  \n",
      " 24  complaint             324742 non-null  int64  \n",
      " 25  open_time             72121 non-null   object \n",
      " 26  click_time            10194 non-null   object \n",
      " 27  create_time           324742 non-null  object \n",
      " 28  expiration_time       164431 non-null  object \n",
      " 29  message_type_name     324742 non-null  object \n",
      "dtypes: float64(1), int64(18), object(11)\n",
      "memory usage: 74.3+ MB\n"
     ]
    }
   ],
   "source": [
    "df.info()"
   ]
  },
  {
   "cell_type": "code",
   "execution_count": 10,
   "metadata": {},
   "outputs": [
    {
     "data": {
      "text/plain": [
       "category_id_name             0\n",
       "campaign_id                  0\n",
       "trigger_id                   0\n",
       "action_id                    0\n",
       "message_id                   0\n",
       "profile_id                   0\n",
       "category_id                  0\n",
       "message_type                 0\n",
       "message_variant              0\n",
       "message_language             0\n",
       "message_param_domain         0\n",
       "error                        0\n",
       "error_message                0\n",
       "status                       0\n",
       "control                      0\n",
       "collapse                     0\n",
       "delivery                     0\n",
       "remove                       0\n",
       "open                         0\n",
       "click                        0\n",
       "conversion                   0\n",
       "promotion_id                 0\n",
       "promotion_amount             0\n",
       "unsubscribe                  0\n",
       "complaint                    0\n",
       "open_time               252621\n",
       "click_time              314548\n",
       "create_time                  0\n",
       "expiration_time         160311\n",
       "message_type_name            0\n",
       "dtype: int64"
      ]
     },
     "execution_count": 10,
     "metadata": {},
     "output_type": "execute_result"
    }
   ],
   "source": [
    "df.isnull().sum()"
   ]
  },
  {
   "cell_type": "code",
   "execution_count": 11,
   "metadata": {},
   "outputs": [
    {
     "data": {
      "text/html": [
       "<div>\n",
       "<style scoped>\n",
       "    .dataframe tbody tr th:only-of-type {\n",
       "        vertical-align: middle;\n",
       "    }\n",
       "\n",
       "    .dataframe tbody tr th {\n",
       "        vertical-align: top;\n",
       "    }\n",
       "\n",
       "    .dataframe thead th {\n",
       "        text-align: right;\n",
       "    }\n",
       "</style>\n",
       "<table border=\"1\" class=\"dataframe\">\n",
       "  <thead>\n",
       "    <tr style=\"text-align: right;\">\n",
       "      <th></th>\n",
       "      <th>campaign_id</th>\n",
       "      <th>trigger_id</th>\n",
       "      <th>action_id</th>\n",
       "      <th>message_id</th>\n",
       "      <th>category_id</th>\n",
       "      <th>message_type</th>\n",
       "      <th>error</th>\n",
       "      <th>status</th>\n",
       "      <th>control</th>\n",
       "      <th>collapse</th>\n",
       "      <th>delivery</th>\n",
       "      <th>remove</th>\n",
       "      <th>open</th>\n",
       "      <th>click</th>\n",
       "      <th>conversion</th>\n",
       "      <th>promotion_id</th>\n",
       "      <th>promotion_amount</th>\n",
       "      <th>unsubscribe</th>\n",
       "      <th>complaint</th>\n",
       "    </tr>\n",
       "  </thead>\n",
       "  <tbody>\n",
       "    <tr>\n",
       "      <th>count</th>\n",
       "      <td>324742.000000</td>\n",
       "      <td>3.247420e+05</td>\n",
       "      <td>3.247420e+05</td>\n",
       "      <td>3.247420e+05</td>\n",
       "      <td>324742.000000</td>\n",
       "      <td>324742.00000</td>\n",
       "      <td>324742.000000</td>\n",
       "      <td>324742.0</td>\n",
       "      <td>324742.0</td>\n",
       "      <td>324742.0</td>\n",
       "      <td>324742.000000</td>\n",
       "      <td>324742.0</td>\n",
       "      <td>324742.000000</td>\n",
       "      <td>324742.000000</td>\n",
       "      <td>324742.0</td>\n",
       "      <td>324742.000000</td>\n",
       "      <td>324742.0</td>\n",
       "      <td>324742.000000</td>\n",
       "      <td>324742.000000</td>\n",
       "    </tr>\n",
       "    <tr>\n",
       "      <th>mean</th>\n",
       "      <td>57710.600384</td>\n",
       "      <td>2.346507e+10</td>\n",
       "      <td>1.712085e+10</td>\n",
       "      <td>5.902912e+08</td>\n",
       "      <td>32.593850</td>\n",
       "      <td>4.03622</td>\n",
       "      <td>0.000724</td>\n",
       "      <td>1.0</td>\n",
       "      <td>0.0</td>\n",
       "      <td>0.0</td>\n",
       "      <td>0.000622</td>\n",
       "      <td>0.0</td>\n",
       "      <td>1.707466</td>\n",
       "      <td>0.035293</td>\n",
       "      <td>0.0</td>\n",
       "      <td>13.288909</td>\n",
       "      <td>0.0</td>\n",
       "      <td>0.000277</td>\n",
       "      <td>0.000068</td>\n",
       "    </tr>\n",
       "    <tr>\n",
       "      <th>std</th>\n",
       "      <td>2573.094081</td>\n",
       "      <td>7.162038e+08</td>\n",
       "      <td>6.706843e+08</td>\n",
       "      <td>3.829051e+06</td>\n",
       "      <td>0.916076</td>\n",
       "      <td>2.85405</td>\n",
       "      <td>0.026891</td>\n",
       "      <td>0.0</td>\n",
       "      <td>0.0</td>\n",
       "      <td>0.0</td>\n",
       "      <td>0.024933</td>\n",
       "      <td>0.0</td>\n",
       "      <td>4.344689</td>\n",
       "      <td>0.248655</td>\n",
       "      <td>0.0</td>\n",
       "      <td>247.969256</td>\n",
       "      <td>0.0</td>\n",
       "      <td>0.016645</td>\n",
       "      <td>0.008231</td>\n",
       "    </tr>\n",
       "    <tr>\n",
       "      <th>min</th>\n",
       "      <td>37148.000000</td>\n",
       "      <td>2.215410e+10</td>\n",
       "      <td>1.592340e+10</td>\n",
       "      <td>5.822253e+08</td>\n",
       "      <td>32.000000</td>\n",
       "      <td>1.00000</td>\n",
       "      <td>0.000000</td>\n",
       "      <td>1.0</td>\n",
       "      <td>0.0</td>\n",
       "      <td>0.0</td>\n",
       "      <td>0.000000</td>\n",
       "      <td>0.0</td>\n",
       "      <td>0.000000</td>\n",
       "      <td>0.000000</td>\n",
       "      <td>0.0</td>\n",
       "      <td>0.000000</td>\n",
       "      <td>0.0</td>\n",
       "      <td>0.000000</td>\n",
       "      <td>0.000000</td>\n",
       "    </tr>\n",
       "    <tr>\n",
       "      <th>25%</th>\n",
       "      <td>57509.000000</td>\n",
       "      <td>2.287104e+10</td>\n",
       "      <td>1.653639e+10</td>\n",
       "      <td>5.873918e+08</td>\n",
       "      <td>32.000000</td>\n",
       "      <td>1.00000</td>\n",
       "      <td>0.000000</td>\n",
       "      <td>1.0</td>\n",
       "      <td>0.0</td>\n",
       "      <td>0.0</td>\n",
       "      <td>0.000000</td>\n",
       "      <td>0.0</td>\n",
       "      <td>0.000000</td>\n",
       "      <td>0.000000</td>\n",
       "      <td>0.0</td>\n",
       "      <td>0.000000</td>\n",
       "      <td>0.0</td>\n",
       "      <td>0.000000</td>\n",
       "      <td>0.000000</td>\n",
       "    </tr>\n",
       "    <tr>\n",
       "      <th>50%</th>\n",
       "      <td>57983.000000</td>\n",
       "      <td>2.362530e+10</td>\n",
       "      <td>1.725869e+10</td>\n",
       "      <td>5.911416e+08</td>\n",
       "      <td>32.000000</td>\n",
       "      <td>2.00000</td>\n",
       "      <td>0.000000</td>\n",
       "      <td>1.0</td>\n",
       "      <td>0.0</td>\n",
       "      <td>0.0</td>\n",
       "      <td>0.000000</td>\n",
       "      <td>0.0</td>\n",
       "      <td>0.000000</td>\n",
       "      <td>0.000000</td>\n",
       "      <td>0.0</td>\n",
       "      <td>0.000000</td>\n",
       "      <td>0.0</td>\n",
       "      <td>0.000000</td>\n",
       "      <td>0.000000</td>\n",
       "    </tr>\n",
       "    <tr>\n",
       "      <th>75%</th>\n",
       "      <td>58541.000000</td>\n",
       "      <td>2.411536e+10</td>\n",
       "      <td>1.773737e+10</td>\n",
       "      <td>5.935001e+08</td>\n",
       "      <td>34.000000</td>\n",
       "      <td>7.00000</td>\n",
       "      <td>0.000000</td>\n",
       "      <td>1.0</td>\n",
       "      <td>0.0</td>\n",
       "      <td>0.0</td>\n",
       "      <td>0.000000</td>\n",
       "      <td>0.0</td>\n",
       "      <td>0.000000</td>\n",
       "      <td>0.000000</td>\n",
       "      <td>0.0</td>\n",
       "      <td>0.000000</td>\n",
       "      <td>0.0</td>\n",
       "      <td>0.000000</td>\n",
       "      <td>0.000000</td>\n",
       "    </tr>\n",
       "    <tr>\n",
       "      <th>max</th>\n",
       "      <td>59859.000000</td>\n",
       "      <td>2.436757e+10</td>\n",
       "      <td>1.798309e+10</td>\n",
       "      <td>5.958973e+08</td>\n",
       "      <td>40.000000</td>\n",
       "      <td>7.00000</td>\n",
       "      <td>1.000000</td>\n",
       "      <td>1.0</td>\n",
       "      <td>0.0</td>\n",
       "      <td>0.0</td>\n",
       "      <td>1.000000</td>\n",
       "      <td>0.0</td>\n",
       "      <td>318.000000</td>\n",
       "      <td>30.000000</td>\n",
       "      <td>0.0</td>\n",
       "      <td>4645.000000</td>\n",
       "      <td>0.0</td>\n",
       "      <td>1.000000</td>\n",
       "      <td>1.000000</td>\n",
       "    </tr>\n",
       "  </tbody>\n",
       "</table>\n",
       "</div>"
      ],
      "text/plain": [
       "         campaign_id    trigger_id     action_id    message_id    category_id  \\\n",
       "count  324742.000000  3.247420e+05  3.247420e+05  3.247420e+05  324742.000000   \n",
       "mean    57710.600384  2.346507e+10  1.712085e+10  5.902912e+08      32.593850   \n",
       "std      2573.094081  7.162038e+08  6.706843e+08  3.829051e+06       0.916076   \n",
       "min     37148.000000  2.215410e+10  1.592340e+10  5.822253e+08      32.000000   \n",
       "25%     57509.000000  2.287104e+10  1.653639e+10  5.873918e+08      32.000000   \n",
       "50%     57983.000000  2.362530e+10  1.725869e+10  5.911416e+08      32.000000   \n",
       "75%     58541.000000  2.411536e+10  1.773737e+10  5.935001e+08      34.000000   \n",
       "max     59859.000000  2.436757e+10  1.798309e+10  5.958973e+08      40.000000   \n",
       "\n",
       "       message_type          error    status   control  collapse  \\\n",
       "count  324742.00000  324742.000000  324742.0  324742.0  324742.0   \n",
       "mean        4.03622       0.000724       1.0       0.0       0.0   \n",
       "std         2.85405       0.026891       0.0       0.0       0.0   \n",
       "min         1.00000       0.000000       1.0       0.0       0.0   \n",
       "25%         1.00000       0.000000       1.0       0.0       0.0   \n",
       "50%         2.00000       0.000000       1.0       0.0       0.0   \n",
       "75%         7.00000       0.000000       1.0       0.0       0.0   \n",
       "max         7.00000       1.000000       1.0       0.0       0.0   \n",
       "\n",
       "            delivery    remove           open          click  conversion  \\\n",
       "count  324742.000000  324742.0  324742.000000  324742.000000    324742.0   \n",
       "mean        0.000622       0.0       1.707466       0.035293         0.0   \n",
       "std         0.024933       0.0       4.344689       0.248655         0.0   \n",
       "min         0.000000       0.0       0.000000       0.000000         0.0   \n",
       "25%         0.000000       0.0       0.000000       0.000000         0.0   \n",
       "50%         0.000000       0.0       0.000000       0.000000         0.0   \n",
       "75%         0.000000       0.0       0.000000       0.000000         0.0   \n",
       "max         1.000000       0.0     318.000000      30.000000         0.0   \n",
       "\n",
       "        promotion_id  promotion_amount    unsubscribe      complaint  \n",
       "count  324742.000000          324742.0  324742.000000  324742.000000  \n",
       "mean       13.288909               0.0       0.000277       0.000068  \n",
       "std       247.969256               0.0       0.016645       0.008231  \n",
       "min         0.000000               0.0       0.000000       0.000000  \n",
       "25%         0.000000               0.0       0.000000       0.000000  \n",
       "50%         0.000000               0.0       0.000000       0.000000  \n",
       "75%         0.000000               0.0       0.000000       0.000000  \n",
       "max      4645.000000               0.0       1.000000       1.000000  "
      ]
     },
     "execution_count": 11,
     "metadata": {},
     "output_type": "execute_result"
    }
   ],
   "source": [
    "df.describe()"
   ]
  },
  {
   "cell_type": "code",
   "execution_count": 12,
   "metadata": {},
   "outputs": [
    {
     "name": "stdout",
     "output_type": "stream",
     "text": [
      "         campaign_id    trigger_id     action_id    category_id  \\\n",
      "count  324742.000000  3.247420e+05  3.247420e+05  324742.000000   \n",
      "mean    57710.600384  2.346507e+10  1.712085e+10      32.593850   \n",
      "std      2573.094081  7.162038e+08  6.706843e+08       0.916076   \n",
      "min     37148.000000  2.215410e+10  1.592340e+10      32.000000   \n",
      "25%     57509.000000  2.287104e+10  1.653639e+10      32.000000   \n",
      "50%     57983.000000  2.362530e+10  1.725869e+10      32.000000   \n",
      "75%     58541.000000  2.411536e+10  1.773737e+10      34.000000   \n",
      "max     59859.000000  2.436757e+10  1.798309e+10      40.000000   \n",
      "\n",
      "               error    status   control  collapse       delivery    remove  \\\n",
      "count  324742.000000  324742.0  324742.0  324742.0  324742.000000  324742.0   \n",
      "mean        0.000724       1.0       0.0       0.0       0.000622       0.0   \n",
      "std         0.026891       0.0       0.0       0.0       0.024933       0.0   \n",
      "min         0.000000       1.0       0.0       0.0       0.000000       0.0   \n",
      "25%         0.000000       1.0       0.0       0.0       0.000000       0.0   \n",
      "50%         0.000000       1.0       0.0       0.0       0.000000       0.0   \n",
      "75%         0.000000       1.0       0.0       0.0       0.000000       0.0   \n",
      "max         1.000000       1.0       0.0       0.0       1.000000       0.0   \n",
      "\n",
      "                open          click  conversion   promotion_id  \\\n",
      "count  324742.000000  324742.000000    324742.0  324742.000000   \n",
      "mean        1.707466       0.035293         0.0      13.288909   \n",
      "std         4.344689       0.248655         0.0     247.969256   \n",
      "min         0.000000       0.000000         0.0       0.000000   \n",
      "25%         0.000000       0.000000         0.0       0.000000   \n",
      "50%         0.000000       0.000000         0.0       0.000000   \n",
      "75%         0.000000       0.000000         0.0       0.000000   \n",
      "max       318.000000      30.000000         0.0    4645.000000   \n",
      "\n",
      "       promotion_amount    unsubscribe      complaint  \n",
      "count          324742.0  324742.000000  324742.000000  \n",
      "mean                0.0       0.000277       0.000068  \n",
      "std                 0.0       0.016645       0.008231  \n",
      "min                 0.0       0.000000       0.000000  \n",
      "25%                 0.0       0.000000       0.000000  \n",
      "50%                 0.0       0.000000       0.000000  \n",
      "75%                 0.0       0.000000       0.000000  \n",
      "max                 0.0       1.000000       1.000000  \n"
     ]
    }
   ],
   "source": [
    "numeric_cols = [\"campaign_id\", \"trigger_id\", \"action_id\", \"profile_id\", \"category_id\", \"error\", \"status\", \"control\", \"collapse\", \"delivery\", \"remove\", \"open\", \"click\", \"conversion\", \"promotion_id\", \"promotion_amount\", \"unsubscribe\", \"complaint\"]\n",
    "numeric_data = df[numeric_cols]\n",
    "summary_stats = numeric_data.describe()\n",
    "print(summary_stats)"
   ]
  },
  {
   "cell_type": "code",
   "execution_count": 13,
   "metadata": {},
   "outputs": [
    {
     "name": "stdout",
     "output_type": "stream",
     "text": [
      "sport             218910\n",
      "sport + casino     83617\n",
      "casino             21713\n",
      "testing              479\n",
      "transactional         23\n",
      "Name: category_id_name, dtype: int64\n"
     ]
    }
   ],
   "source": [
    "category_counts = df[\"category_id_name\"].value_counts()\n",
    "print(category_counts)"
   ]
  },
  {
   "cell_type": "code",
   "execution_count": 14,
   "metadata": {},
   "outputs": [
    {
     "data": {
      "image/png": "[encoded data removed]",
      "text/plain": [
       "<Figure size 640x480 with 1 Axes>"
      ]
     },
     "metadata": {},
     "output_type": "display_data"
    }
   ],
   "source": [
    "category_counts.plot(kind=\"bar\")\n",
    "plt.xlabel(\"Category\")\n",
    "plt.ylabel(\"Count\")\n",
    "plt.title(\"Category Counts\")\n",
    "plt.show()"
   ]
  },
  {
   "cell_type": "code",
   "execution_count": 18,
   "metadata": {},
   "outputs": [
    {
     "name": "stdout",
     "output_type": "stream",
     "text": [
      "email           155056\n",
      "ios_push        114440\n",
      "android_push     55043\n",
      "inapp              203\n",
      "Name: message_type_name, dtype: int64\n"
     ]
    }
   ],
   "source": [
    "message_param_counts = df[\"message_type_name\"].value_counts()\n",
    "print(message_param_counts)"
   ]
  },
  {
   "cell_type": "code",
   "execution_count": 22,
   "metadata": {},
   "outputs": [
    {
     "ename": "TypeError",
     "evalue": "countplot() got multiple values for argument 'data'",
     "output_type": "error",
     "traceback": [
      "\u001b[1;31m---------------------------------------------------------------------------\u001b[0m",
      "\u001b[1;31mTypeError\u001b[0m                                 Traceback (most recent call last)",
      "\u001b[1;32mUntitled-2.ipynb Cell 11\u001b[0m in \u001b[0;36m1\n\u001b[1;32m----> <a href='vscode-notebook-cell:Untitled-2.ipynb?jupyter-notebook#X13sdW50aXRsZWQ%3D?line=0'>1</a>\u001b[0m ax \u001b[39m=\u001b[39m sns\u001b[39m.\u001b[39mcountplot(\u001b[39m'\u001b[39m\u001b[39mmessage_type_name\u001b[39m\u001b[39m'\u001b[39m,data \u001b[39m=\u001b[39m df)\n\u001b[0;32m      <a href='vscode-notebook-cell:Untitled-2.ipynb?jupyter-notebook#X13sdW50aXRsZWQ%3D?line=1'>2</a>\u001b[0m plt\u001b[39m.\u001b[39mylabel(\u001b[39m'\u001b[39m\u001b[39mTotal number of Response\u001b[39m\u001b[39m'\u001b[39m)\n\u001b[0;32m      <a href='vscode-notebook-cell:Untitled-2.ipynb?jupyter-notebook#X13sdW50aXRsZWQ%3D?line=2'>3</a>\u001b[0m annot_plot(ax, \u001b[39m0.08\u001b[39m,\u001b[39m1\u001b[39m)\n",
      "\u001b[1;31mTypeError\u001b[0m: countplot() got multiple values for argument 'data'"
     ]
    }
   ],
   "source": [
    "ax = sns.countplot('message_type_name',data = df)\n",
    "plt.ylabel('Total number of Response')\n",
    "annot_plot(ax, 0.08,1)\n",
    "plt.show()"
   ]
  },
  {
   "cell_type": "code",
   "execution_count": 23,
   "metadata": {},
   "outputs": [],
   "source": [
    "df['engagement'] = df[['open', 'click']].apply(lambda x: 'Engaged' if x.sum() > 0 else 'Not Engaged', axis=1)\n"
   ]
  },
  {
   "cell_type": "code",
   "execution_count": 85,
   "metadata": {},
   "outputs": [
    {
     "data": {
      "image/png": "[encoded data removed]",
      "text/plain": [
       "<Figure size 640x480 with 1 Axes>"
      ]
     },
     "metadata": {},
     "output_type": "display_data"
    }
   ],
   "source": [
    "engagement_counts = df['engagement'].value_counts()\n",
    "engagement_percentages = (engagement_counts / engagement_counts.sum()) * 100\n",
    "\n",
    "fig, ax = plt.subplots()\n",
    "ax = engagement_counts.plot(kind='bar')\n",
    "\n",
    "# Add the percentage values on top of each bar\n",
    "for i, v in enumerate(engagement_counts):\n",
    "    ax.text(i, v + 2, f\"{engagement_percentages[i]:.0f}%\", ha='center')\n",
    "plt.xticks(rotation=0)\n",
    "ax.set_ylabel('Total number of Response')\n",
    "ax.set_title('Overall user response to marketing campaigns')\n",
    "plt.show()"
   ]
  },
  {
   "cell_type": "code",
   "execution_count": 25,
   "metadata": {},
   "outputs": [
    {
     "data": {
      "text/plain": [
       "Not Engaged    252475\n",
       "Engaged         72267\n",
       "Name: engagement, dtype: int64"
      ]
     },
     "execution_count": 25,
     "metadata": {},
     "output_type": "execute_result"
    }
   ],
   "source": [
    "engagement_counts"
   ]
  },
  {
   "cell_type": "code",
   "execution_count": 26,
   "metadata": {},
   "outputs": [
    {
     "data": {
      "text/plain": [
       "0         Not Engaged\n",
       "1         Not Engaged\n",
       "2         Not Engaged\n",
       "3         Not Engaged\n",
       "4         Not Engaged\n",
       "             ...     \n",
       "324737    Not Engaged\n",
       "324738        Engaged\n",
       "324739        Engaged\n",
       "324740    Not Engaged\n",
       "324741    Not Engaged\n",
       "Name: engagement, Length: 324742, dtype: object"
      ]
     },
     "execution_count": 26,
     "metadata": {},
     "output_type": "execute_result"
    }
   ],
   "source": [
    "df['engagement']"
   ]
  },
  {
   "cell_type": "code",
   "execution_count": 50,
   "metadata": {},
   "outputs": [
    {
     "data": {
      "image/png": "[encoded data removed]",
      "text/plain": [
       "<Figure size 800x600 with 1 Axes>"
      ]
     },
     "metadata": {},
     "output_type": "display_data"
    }
   ],
   "source": [
    "grouped_data = df.groupby(['message_type_name', 'engagement']).size().reset_index(name='count')\n",
    "\n",
    "# Set the figure size\n",
    "plt.figure(figsize=(8, 6))\n",
    "\n",
    "# Plot the grouped data\n",
    "ax = sns.barplot(x='message_type_name', y='count', hue='engagement', data=grouped_data)\n",
    "\n",
    "# Add labels and title\n",
    "plt.xlabel('Marketing Channel')\n",
    "plt.ylabel('Engagement Count')\n",
    "plt.title('Engagement Count by Marketing Channel')\n",
    "new_labels = ['Android Push', 'Email', 'In App','iOS Push']\n",
    "\n",
    "# Set the new labels on the x-axis\n",
    "ax.set_xticklabels(new_labels)\n",
    "\n",
    "\n",
    "# Show the plot\n",
    "plt.show()"
   ]
  },
  {
   "cell_type": "code",
   "execution_count": 84,
   "metadata": {},
   "outputs": [
    {
     "data": {
      "image/png": "[encoded data removed]",
      "text/plain": [
       "<Figure size 640x480 with 1 Axes>"
      ]
     },
     "metadata": {},
     "output_type": "display_data"
    }
   ],
   "source": [
    "filtered_data = df[df['category_id_name'].isin(['casino', 'sport', 'sport + casino'])]\n",
    "occurrence_count = filtered_data['category_id_name'].value_counts()\n",
    "occurrence_percentages = (occurrence_count / occurrence_count.sum()) * 100\n",
    "\n",
    "# Set the figure size\n",
    "fig, ax = plt.subplots()\n",
    "ax = occurrence_count.plot(kind='bar')\n",
    "\n",
    "\n",
    "for i, v in enumerate(occurrence_count):\n",
    "    ax.text(i, v + 1, f\"{occurrence_percentages[i]:.0f}%\", ha='center')\n",
    "\n",
    "# Add labels and title\n",
    "plt.xlabel('Category')\n",
    "plt.ylabel('Count')\n",
    "plt.title('Number of marketing campaigns per category')\n",
    "plt.xticks(rotation=0)\n",
    "# Show the plot\n",
    "plt.show()"
   ]
  },
  {
   "cell_type": "code",
   "execution_count": null,
   "metadata": {},
   "outputs": [],
   "source": [
    "total_customers = df['profile_id'].nunique()\n",
    "\n",
    "# Count the total number of unique customers who clicked\n",
    "clicked_customers = df[df['click'] == 1]['customer_id'].nunique()\n",
    "\n",
    "# Calculate the CTR\n",
    "ctr = (clicked_customers / total_customers) * 100\n",
    "\n",
    "# Print the CTR\n",
    "print(f\"CTR: {ctr:.2f}%\")"
   ]
  },
  {
   "cell_type": "code",
   "execution_count": 80,
   "metadata": {},
   "outputs": [
    {
     "name": "stdout",
     "output_type": "stream",
     "text": [
      "Open count: 548125\n",
      "Click count: 5100\n"
     ]
    },
    {
     "name": "stderr",
     "output_type": "stream",
     "text": [
      "C:\\Users\\hasha\\AppData\\Local\\Temp\\ipykernel_21172\\3918533931.py:4: FutureWarning: The default value of numeric_only in DataFrameGroupBy.sum is deprecated. In a future version, numeric_only will default to False. Either specify numeric_only or select only columns which should be valid for the function.\n",
      "  email_counts = email_data.groupby('profile_id').sum()\n"
     ]
    }
   ],
   "source": [
    "email_data = df[df['message_type_name'] == 'email']\n",
    "\n",
    "# Group by profile_id and calculate the sum of open and click counts\n",
    "email_counts = email_data.groupby('profile_id').sum()\n",
    "\n",
    "# Get the open count and click count\n",
    "open_count = email_counts['open'].sum()\n",
    "click_count = email_counts['click'].sum()\n",
    "\n",
    "print(\"Open count:\", open_count)\n",
    "print(\"Click count:\", click_count)\n"
   ]
  },
  {
   "cell_type": "code",
   "execution_count": 81,
   "metadata": {},
   "outputs": [
    {
     "data": {
      "image/png": "[encoded data removed]",
      "text/plain": [
       "<Figure size 640x480 with 1 Axes>"
      ]
     },
     "metadata": {},
     "output_type": "display_data"
    }
   ],
   "source": [
    "import matplotlib.pyplot as plt\n",
    "\n",
    "# Data labels\n",
    "labels = ['Open', 'Click']\n",
    "\n",
    "# Data values\n",
    "sizes = [open_count, click_count]\n",
    "\n",
    "# Pie chart colors\n",
    "colors = ['#FF9999', '#66B3FF']\n",
    "\n",
    "# Create pie chart\n",
    "fig, ax = plt.subplots()\n",
    "ax.pie(sizes, labels=labels, colors=colors)\n",
    "\n",
    "# Add a title\n",
    "ax.set_title('Open vs Click Distribution for Email')\n",
    "\n",
    "# Equal aspect ratio ensures that pie is drawn as a circle\n",
    "ax.axis('equal')\n",
    "\n",
    "# Add count values outside the pie chart\n",
    "total = sum(sizes)\n",
    "for i, (size, label) in enumerate(zip(sizes, labels)):\n",
    "    percentage = size / total * 100\n",
    "    ax.text(1.02, 0.8 - i * 0.2, f'{label}: {size} ({percentage:.1f}%)', transform=ax.transAxes)\n",
    "\n",
    "# Display the chart\n",
    "plt.show()\n"
   ]
  },
  {
   "cell_type": "code",
   "execution_count": null,
   "metadata": {},
   "outputs": [],
   "source": [
    "for i, (open_count, click_count) in enumerate(zip(email_counts['open'], email_counts['click'])):\n",
    "    ax.text(i, open_count, str(open_count), ha='center', va='bottom')\n",
    "    ax.text(i, click_count, str(click_count), ha='center', va='bottom', color='red')\n",
    "\n",
    "# Show the plot\n",
    "plt.show()"
   ]
  }
 ],
 "metadata": {
  "kernelspec": {
   "display_name": "Python 3",
   "language": "python",
   "name": "python3"
  },
  "language_info": {
   "codemirror_mode": {
    "name": "ipython",
    "version": 3
   },
   "file_extension": ".py",
   "mimetype": "text/x-python",
   "name": "python",
   "nbconvert_exporter": "python",
   "pygments_lexer": "ipython3",
   "version": "3.9.5"
  },
  "orig_nbformat": 4
 },
 "nbformat": 4,
 "nbformat_minor": 2
}
